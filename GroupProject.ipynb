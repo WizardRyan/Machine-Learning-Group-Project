{
 "cells": [
  {
   "cell_type": "markdown",
   "id": "6235d229-1277-496d-8afa-c339d18e3e44",
   "metadata": {},
   "source": [
    "# Milestone 1\n",
    "\n",
    "## Team Undefined\n",
    "\n",
    "Group Members: Luke Shumway, Ryan Andersen, Ian Adams\n",
    "\n",
    "Project: [Store Sales - Time Series Forecasting](https://www.kaggle.com/competitions/store-sales-time-series-forecasting/overview/description)"
   ]
  },
  {
   "cell_type": "code",
   "execution_count": null,
   "id": "21d6912b-449d-4b5b-849d-8d3f6425bce2",
   "metadata": {},
   "outputs": [],
   "source": []
  }
 ],
 "metadata": {
  "kernelspec": {
   "display_name": "Python 3 (ipykernel)",
   "language": "python",
   "name": "python3"
  },
  "language_info": {
   "codemirror_mode": {
    "name": "ipython",
    "version": 3
   },
   "file_extension": ".py",
   "mimetype": "text/x-python",
   "name": "python",
   "nbconvert_exporter": "python",
   "pygments_lexer": "ipython3",
   "version": "3.10.1"
  }
 },
 "nbformat": 4,
 "nbformat_minor": 5
}
